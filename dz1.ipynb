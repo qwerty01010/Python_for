{
 "cells": [
  {
   "cell_type": "markdown",
   "id": "be5564cd",
   "metadata": {},
   "source": [
    "## Задача 1"
   ]
  },
  {
   "cell_type": "markdown",
   "id": "ccf29345",
   "metadata": {},
   "source": [
    "### На складе лежат разные фрукты в разном количестве.\n",
    "### Нужно написать функцию, которая на вход принимает любое количество названий фруктов и их количество, а возвращает общее количество фруктов на складе"
   ]
  },
  {
   "cell_type": "code",
   "execution_count": 49,
   "id": "76ebff90",
   "metadata": {},
   "outputs": [],
   "source": [
    "def fruits (**kwargs):\n",
    "    result = 0\n",
    "    for key, value in kwargs.items():\n",
    "        result = result + int(value)\n",
    "    return result"
   ]
  },
  {
   "cell_type": "code",
   "execution_count": 52,
   "id": "b3eaca43",
   "metadata": {
    "scrolled": true
   },
   "outputs": [
    {
     "data": {
      "text/plain": [
       "77"
      ]
     },
     "execution_count": 52,
     "metadata": {},
     "output_type": "execute_result"
    }
   ],
   "source": [
    "fruits (apples=15, limes=62)"
   ]
  },
  {
   "cell_type": "markdown",
   "id": "0901f89a",
   "metadata": {},
   "source": [
    "## Задача 2"
   ]
  },
  {
   "cell_type": "markdown",
   "id": "a394bcea",
   "metadata": {},
   "source": [
    "### Дан список с затратами на рекламу. Но в данных есть ошибки, некоторые затраты имеют отрицательную величину. Удалите такие значения из списка и посчитайте суммарные затраты\n",
    "### Используйте list comprehensions"
   ]
  },
  {
   "cell_type": "code",
   "execution_count": null,
   "id": "7a306a97",
   "metadata": {},
   "outputs": [],
   "source": [
    "[100, 125, -90, 345, 655, -1, 0, 200]"
   ]
  },
  {
   "cell_type": "code",
   "execution_count": 62,
   "id": "04c27747",
   "metadata": {},
   "outputs": [
    {
     "name": "stdout",
     "output_type": "stream",
     "text": [
      "1425\n"
     ]
    }
   ],
   "source": [
    "expenses = [100, 125, -90, 345, 655, -1, 0, 200]\n",
    "print (sum([x for x in expenses if x>=0]))"
   ]
  },
  {
   "cell_type": "markdown",
   "id": "a639b129",
   "metadata": {},
   "source": [
    "## Задача 3"
   ]
  },
  {
   "cell_type": "markdown",
   "id": "ec3dc170",
   "metadata": {},
   "source": [
    "#### Даны два списка.\n",
    "#### Дата покупки"
   ]
  },
  {
   "cell_type": "code",
   "execution_count": 65,
   "id": "9e56fde6",
   "metadata": {},
   "outputs": [],
   "source": [
    "list_dates = ['2021-09-14', '2021-12-15', '2021-09-08', '2021-12-05', '2021-10-09', '2021-09-30', '2021-12-22', '2021-11-29', '2021-12-24', '2021-11-26', '2021-10-27', '2021-12-18', '2021-11-09', '2021-11-23', '2021-09-27', '2021-10-02', '2021-12-27', '2021-09-20', '2021-12-13', '2021-11-01', '2021-11-09', '2021-12-06', '2021-12-08', '2021-10-09', '2021-10-31', '2021-09-30', '2021-11-09', '2021-12-13', '2021-10-26', '2021-12-09']"
   ]
  },
  {
   "cell_type": "markdown",
   "id": "33ea88b3",
   "metadata": {},
   "source": [
    "#### Суммы покупок по датам"
   ]
  },
  {
   "cell_type": "code",
   "execution_count": 66,
   "id": "3cfe5515",
   "metadata": {
    "scrolled": true
   },
   "outputs": [],
   "source": [
    "list_sum = [1270, 8413, 9028, 3703, 5739, 4095, 295, 4944, 5723, 3701, 4471, 651, 7037, 4274, 6275, 4988, 6930, 2971, 6592, 2004, 2822, 519, 3406, 2732, 5015, 2008, 316, 6333, 5700, 2887]"
   ]
  },
  {
   "cell_type": "markdown",
   "id": "f363e7d5",
   "metadata": {},
   "source": [
    "### Найдите, какая выручка у компании в ноябре\n",
    "### Используйте list comprehensions"
   ]
  },
  {
   "cell_type": "code",
   "execution_count": 152,
   "id": "0847baf1",
   "metadata": {},
   "outputs": [
    {
     "name": "stdout",
     "output_type": "stream",
     "text": [
      "Выручка компании в ноября составила 25098\n",
      "['12', '11', '09', '10']\n"
     ]
    }
   ],
   "source": [
    "list_dates = ['2021-09-14', '2021-12-15', '2021-09-08', '2021-12-05', '2021-10-09', '2021-09-30', '2021-12-22', '2021-11-29', '2021-12-24', '2021-11-26', '2021-10-27', '2021-12-18', '2021-11-09', '2021-11-23', '2021-09-27', '2021-10-02', '2021-12-27', '2021-09-20', '2021-12-13', '2021-11-01', '2021-11-09', '2021-12-06', '2021-12-08', '2021-10-09', '2021-10-31', '2021-09-30', '2021-11-09', '2021-12-13', '2021-10-26', '2021-12-09']\n",
    "list_sum = [1270, 8413, 9028, 3703, 5739, 4095, 295, 4944, 5723, 3701, 4471, 651, 7037, 4274, 6275, 4988, 6930, 2971, 6592, 2004, 2822, 519, 3406, 2732, 5015, 2008, 316, 6333, 5700, 2887]\n",
    "list_dates_split = [list_dates[i].split('-') for i in range(len(list_dates))]\n",
    "list_mounth = []\n",
    "for i, data in enumerate(list2):\n",
    "    for j, data2 in enumerate(data):\n",
    "        if j == 1:\n",
    "            list_mounth.append(data2)\n",
    "list_mounth_sum = [list(i) for i in zip(list_mounth, list_sum)]\n",
    "sum = 0\n",
    "for data in list_mounth_sum:\n",
    "    for j, data2 in enumerate(data):\n",
    "        if data2 == '11':\n",
    "            sum = sum + data[1]\n",
    "print (f'Выручка компании в ноября составила {sum}')"
   ]
  },
  {
   "cell_type": "markdown",
   "id": "e4da25fa",
   "metadata": {},
   "source": [
    "### Найдите выручку компании в зависимости от месяца\n",
    "### Для этого напишите функцию, которая на вход принимает список с датами и список с выручкой, а на выходе словарь, где ключи - это месяцы, а значения - это выручка.\n",
    "### Используйте аннотирование типов."
   ]
  },
  {
   "cell_type": "code",
   "execution_count": 184,
   "id": "2ff42b32",
   "metadata": {},
   "outputs": [
    {
     "name": "stdout",
     "output_type": "stream",
     "text": [
      "{12: 45452, 11: 25098, 9: 25647, 10: 28645}\n"
     ]
    }
   ],
   "source": [
    "list_dates = ['2021-09-14', '2021-12-15', '2021-09-08', '2021-12-05', '2021-10-09', '2021-09-30', '2021-12-22', '2021-11-29', '2021-12-24', '2021-11-26', '2021-10-27', '2021-12-18', '2021-11-09', '2021-11-23', '2021-09-27', '2021-10-02', '2021-12-27', '2021-09-20', '2021-12-13', '2021-11-01', '2021-11-09', '2021-12-06', '2021-12-08', '2021-10-09', '2021-10-31', '2021-09-30', '2021-11-09', '2021-12-13', '2021-10-26', '2021-12-09']\n",
    "list_sum = [1270, 8413, 9028, 3703, 5739, 4095, 295, 4944, 5723, 3701, 4471, 651, 7037, 4274, 6275, 4988, 6930, 2971, 6592, 2004, 2822, 519, 3406, 2732, 5015, 2008, 316, 6333, 5700, 2887]\n",
    "def profit (list_dates, list_sum: int) -> int:\n",
    "    list_dates_split = [list_dates[i].split('-') for i in range(len(list_dates))]\n",
    "    list_mounth = []\n",
    "    for i, data in enumerate(list2):\n",
    "        for j, data2 in enumerate(data):\n",
    "            if j == 1:\n",
    "                list_mounth.append(data2)\n",
    "    list_mounth_uniq = [*{i for i in list_mounth}]\n",
    "    list_mounth_uniq = [int(i) for i in list_mounth_uniq]\n",
    "    list_mounth_sum = [list(i) for i in zip(list_mounth, list_sum)]\n",
    "    dict_sum = {}\n",
    "    for i in list_mounth_uniq:\n",
    "        dict_sum[i] = 0\n",
    "        for data in list_mounth_sum:\n",
    "            data [0] = int(data[0])\n",
    "            if data[0] == i:\n",
    "                dict_sum[i] = dict_sum[i] + int(data[1])\n",
    "    print (dict_sum)\n",
    "profit(list_dates, list_sum)"
   ]
  }
 ],
 "metadata": {
  "kernelspec": {
   "display_name": "Python 3 (ipykernel)",
   "language": "python",
   "name": "python3"
  },
  "language_info": {
   "codemirror_mode": {
    "name": "ipython",
    "version": 3
   },
   "file_extension": ".py",
   "mimetype": "text/x-python",
   "name": "python",
   "nbconvert_exporter": "python",
   "pygments_lexer": "ipython3",
   "version": "3.10.10"
  }
 },
 "nbformat": 4,
 "nbformat_minor": 5
}
